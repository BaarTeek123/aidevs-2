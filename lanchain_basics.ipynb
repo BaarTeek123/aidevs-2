{
 "cells": [
  {
   "cell_type": "markdown",
   "source": [
    "## C01L04\n",
    "#### Import dependencies"
   ],
   "metadata": {
    "collapsed": false
   },
   "id": "3853cb6bcc3bb9a4"
  },
  {
   "cell_type": "code",
   "execution_count": 8,
   "outputs": [],
   "source": [
    "import os\n",
    "from dotenv import load_dotenv\n",
    "from langchain.callbacks.base import BaseCallbackHandler\n",
    "from langchain.chains import ConversationChain\n",
    "from langchain.chat_models import ChatOpenAI\n",
    "from langchain.memory import ConversationBufferWindowMemory\n",
    "from langchain.prompts import ChatPromptTemplate\n",
    "from langchain.schema import HumanMessage\n",
    "from langchain.callbacks.streaming_stdout import StreamingStdOutCallbackHandler"
   ],
   "metadata": {
    "collapsed": false,
    "ExecuteTime": {
     "end_time": "2023-11-04T16:33:57.773305547Z",
     "start_time": "2023-11-04T16:33:57.768804257Z"
    }
   },
   "id": "49e4b8997c3c8bd3"
  },
  {
   "cell_type": "markdown",
   "source": [
    "## Langchain initialization (L1)"
   ],
   "metadata": {
    "collapsed": false
   },
   "id": "a5c2e358b6542468"
  },
  {
   "cell_type": "code",
   "execution_count": null,
   "outputs": [],
   "source": [
    "load_dotenv()\n",
    "OPENAI_API_KEY = os.getenv('OPENAI_API_KEY')"
   ],
   "metadata": {
    "collapsed": false
   },
   "id": "57eb515a06840c2f"
  },
  {
   "cell_type": "code",
   "execution_count": 4,
   "outputs": [
    {
     "data": {
      "text/plain": "\"Hello! I'm an AI, so I don't have feelings, but I'm here to help you. How can I assist you today?\""
     },
     "execution_count": 4,
     "metadata": {},
     "output_type": "execute_result"
    }
   ],
   "source": [
    "OPENAI_MODEL ='gpt-3.5-turbo'\n",
    "chat = ChatOpenAI(openai_api_key=OPENAI_API_KEY, model_name=OPENAI_MODEL, streaming=True)\n",
    "chat.predict('Hi, how are you?')"
   ],
   "metadata": {
    "collapsed": false,
    "ExecuteTime": {
     "end_time": "2023-11-04T08:31:14.871612512Z",
     "start_time": "2023-11-04T08:31:10.280603187Z"
    }
   },
   "id": "424f6559fac518bc"
  },
  {
   "cell_type": "markdown",
   "source": [
    "## Langchain format (L2)\n",
    "#### Define template strings"
   ],
   "metadata": {
    "collapsed": false
   },
   "id": "fd32ac121da674ae"
  },
  {
   "cell_type": "code",
   "execution_count": 8,
   "outputs": [],
   "source": [
    "SYSTEM_TEMPLATE = \"\"\"\n",
    "As a {role} who answers the questions ultra-concisely using CONTEXT below \n",
    "and nothing more and truthfully says \"don't know\" when the CONTEXT is not enough to give an answer.\n",
    "\n",
    "context###{context}###\n",
    "\"\"\"\n",
    "\n",
    "HUMAN_TEMPLATE = \"\"\"{text}\"\"\"\n"
   ],
   "metadata": {
    "collapsed": false,
    "ExecuteTime": {
     "end_time": "2023-11-04T08:49:20.982455171Z",
     "start_time": "2023-11-04T08:49:20.978962031Z"
    }
   },
   "id": "6b5e6e072328c656"
  },
  {
   "cell_type": "code",
   "execution_count": 10,
   "outputs": [],
   "source": [
    "chat_prompt = ChatPromptTemplate.from_messages([\n",
    "    (\"system\", SYSTEM_TEMPLATE),\n",
    "    (\"human\", HUMAN_TEMPLATE),\n",
    "])\n"
   ],
   "metadata": {
    "collapsed": false,
    "ExecuteTime": {
     "end_time": "2023-11-04T08:52:16.666856016Z",
     "start_time": "2023-11-04T08:52:16.623602546Z"
    }
   },
   "id": "f9d7a9e0eb3ea89a"
  },
  {
   "cell_type": "code",
   "execution_count": 14,
   "outputs": [
    {
     "data": {
      "text/plain": "AIMessageChunk(content='The basic types of data in Python are integers, floats, strings, booleans, and None.')"
     },
     "execution_count": 14,
     "metadata": {},
     "output_type": "execute_result"
    }
   ],
   "source": [
    "llm = ChatOpenAI(openai_api_key=OPENAI_API_KEY, model_name=OPENAI_MODEL, streaming=True)\n",
    "llm(chat_prompt.format_messages(role=\"Python Senior Developer\", context='You are an expert in Python theory.', text=\"Tell me basic types of data in Python.\"))"
   ],
   "metadata": {
    "collapsed": false,
    "ExecuteTime": {
     "end_time": "2023-11-04T08:55:25.832797056Z",
     "start_time": "2023-11-04T08:55:23.017063743Z"
    }
   },
   "id": "116aab74f9fcb827"
  },
  {
   "cell_type": "markdown",
   "source": [
    "## Streaming (L3)"
   ],
   "metadata": {
    "collapsed": false
   },
   "id": "d1cd30893e52b12"
  },
  {
   "cell_type": "code",
   "execution_count": 22,
   "outputs": [
    {
     "name": "stdout",
     "output_type": "stream",
     "text": [
      "Token: \n",
      "Token: Hello\n",
      "Token: !\n",
      "Token:  How\n",
      "Token:  can\n",
      "Token:  I\n",
      "Token:  assist\n",
      "Token:  you\n",
      "Token:  today\n",
      "Token: ?\n",
      "Token: \n"
     ]
    },
    {
     "data": {
      "text/plain": "'Hello! How can I assist you today?'"
     },
     "execution_count": 22,
     "metadata": {},
     "output_type": "execute_result"
    }
   ],
   "source": [
    "class MyCustomHandler(BaseCallbackHandler):\n",
    "    def on_llm_new_token(self, token: str, **kwargs) -> None:\n",
    "        print(f\"Token: {token}\")\n",
    "        \n",
    "llm = ChatOpenAI(openai_api_key=OPENAI_API_KEY, model_name=OPENAI_MODEL, streaming=True)\n",
    "llm.predict('Hi there', callbacks=[MyCustomHandler()])"
   ],
   "metadata": {
    "collapsed": false,
    "ExecuteTime": {
     "end_time": "2023-11-04T10:50:42.698454071Z",
     "start_time": "2023-11-04T10:50:21.849547345Z"
    }
   },
   "id": "7cba73ba1346bee5"
  },
  {
   "cell_type": "code",
   "execution_count": 33,
   "outputs": [
    {
     "name": "stdout",
     "output_type": "stream",
     "text": [
      "Hello! How can I assist you today?"
     ]
    },
    {
     "data": {
      "text/plain": "AIMessageChunk(content='Hello! How can I assist you today?')"
     },
     "execution_count": 33,
     "metadata": {},
     "output_type": "execute_result"
    }
   ],
   "source": [
    "llm = ChatOpenAI(openai_api_key=OPENAI_API_KEY, model_name=OPENAI_MODEL, streaming=True, callbacks=[StreamingStdOutCallbackHandler()])\n",
    "llm([HumanMessage(content='Hi there')])"
   ],
   "metadata": {
    "collapsed": false,
    "ExecuteTime": {
     "end_time": "2023-11-04T10:56:05.553732385Z",
     "start_time": "2023-11-04T10:56:03.857340100Z"
    }
   },
   "id": "704f3a50b5b3151e"
  },
  {
   "cell_type": "markdown",
   "source": [
    "### Conversation (L5)"
   ],
   "metadata": {
    "collapsed": false
   },
   "id": "95c6b8cacf4873b0"
  },
  {
   "cell_type": "markdown",
   "source": [],
   "metadata": {
    "collapsed": false
   },
   "id": "64cfa70cf8ebb384"
  },
  {
   "cell_type": "code",
   "execution_count": 9,
   "outputs": [
    {
     "name": "stdout",
     "output_type": "stream",
     "text": [
      "\n",
      "USER: Hey there! I'm Bartek.\n",
      "Hello Bartek! How can I assist you today?\n",
      "USER: I love pineapples on the pizza. \n",
      "That's great to hear, Bartek! Pineapples on pizza can be a divisive topic, but it's all about personal preference. Some people enjoy the sweet and tangy flavor it adds to the pizza, while others prefer a more traditional combination of toppings. It's all about finding what you enjoy! Is there anything else you'd like to discuss?\n",
      "USER: I really hate Hawaiian pizza.\n",
      "I understand that not everyone enjoys the combination of pineapples on pizza. Taste preferences can vary greatly from person to person, and it's completely okay to have different opinions. Is there anything else you'd like to talk about?\n",
      "USER: What is my name?\n",
      "I'm sorry, but I don't have access to personal information about individuals unless it has been shared with me in the course of our conversation. I am designed to respect user privacy and confidentiality."
     ]
    }
   ],
   "source": [
    "llm = ChatOpenAI(openai_api_key=OPENAI_API_KEY, model_name=OPENAI_MODEL, callbacks=[StreamingStdOutCallbackHandler()], streaming=True, temperature=0)\n",
    "memory = ConversationBufferWindowMemory(k=1)\n",
    "chain = ConversationChain(llm=llm, memory=memory)\n",
    "questions = [\"Hey there! I'm Bartek.\", \"I love pineapples on the pizza. \", 'I really hate Hawaiian pizza.', \"What is my name?\"]\n",
    "repsonses = []\n",
    "for q in questions:\n",
    "    print(f'\\nUSER: {q}')\n",
    "    repsonses.append(chain.invoke(q))"
   ],
   "metadata": {
    "collapsed": false,
    "ExecuteTime": {
     "end_time": "2023-11-04T16:34:36.492500022Z",
     "start_time": "2023-11-04T16:34:01.819984453Z"
    }
   },
   "id": "5c66ff8a8d26b2fb"
  }
 ],
 "metadata": {
  "kernelspec": {
   "display_name": "Python 3",
   "language": "python",
   "name": "python3"
  },
  "language_info": {
   "codemirror_mode": {
    "name": "ipython",
    "version": 2
   },
   "file_extension": ".py",
   "mimetype": "text/x-python",
   "name": "python",
   "nbconvert_exporter": "python",
   "pygments_lexer": "ipython2",
   "version": "2.7.6"
  }
 },
 "nbformat": 4,
 "nbformat_minor": 5
}
